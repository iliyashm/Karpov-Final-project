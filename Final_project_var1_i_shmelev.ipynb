{
 "cells": [
  {
   "cell_type": "code",
   "execution_count": 1,
   "id": "ba754eaf",
   "metadata": {},
   "outputs": [],
   "source": [
    "#импорт нужных библиотек\n",
    "import pandas as pd\n",
    "import numpy as np\n",
    "from time import strftime\n",
    "from datetime import datetime\n",
    "from scipy.stats import norm\n",
    "from scipy.stats import ttest_ind\n",
    "from scipy.stats import mannwhitneyu\n",
    "import matplotlib.pyplot as plt\n",
    "import seaborn as sns\n",
    "\n",
    "from tqdm.auto import tqdm"
   ]
  },
  {
   "cell_type": "markdown",
   "id": "002f8e6c",
   "metadata": {},
   "source": [
    "# Задание 1\n",
    "Retention – один из самых важных показателей в компании. Ваша задача – написать функцию, которая будет считать retention игроков (по дням от даты регистрации игрока)."
   ]
  },
  {
   "cell_type": "code",
   "execution_count": 2,
   "id": "79c7056f",
   "metadata": {},
   "outputs": [],
   "source": [
    "#подгрузка данных для работы, разделитель ;\n",
    "df_reg = pd.read_csv('problem1-reg_data.csv', sep = \";\")\n",
    "df_auth = pd.read_csv('problem1-auth_data.csv', sep=\";\")"
   ]
  },
  {
   "cell_type": "code",
   "execution_count": 3,
   "id": "8aaa4930",
   "metadata": {},
   "outputs": [
    {
     "data": {
      "text/html": [
       "<div>\n",
       "<style scoped>\n",
       "    .dataframe tbody tr th:only-of-type {\n",
       "        vertical-align: middle;\n",
       "    }\n",
       "\n",
       "    .dataframe tbody tr th {\n",
       "        vertical-align: top;\n",
       "    }\n",
       "\n",
       "    .dataframe thead th {\n",
       "        text-align: right;\n",
       "    }\n",
       "</style>\n",
       "<table border=\"1\" class=\"dataframe\">\n",
       "  <thead>\n",
       "    <tr style=\"text-align: right;\">\n",
       "      <th></th>\n",
       "      <th>reg_ts</th>\n",
       "      <th>uid</th>\n",
       "    </tr>\n",
       "  </thead>\n",
       "  <tbody>\n",
       "    <tr>\n",
       "      <th>0</th>\n",
       "      <td>911382223</td>\n",
       "      <td>1</td>\n",
       "    </tr>\n",
       "    <tr>\n",
       "      <th>1</th>\n",
       "      <td>932683089</td>\n",
       "      <td>2</td>\n",
       "    </tr>\n",
       "    <tr>\n",
       "      <th>2</th>\n",
       "      <td>947802447</td>\n",
       "      <td>3</td>\n",
       "    </tr>\n",
       "    <tr>\n",
       "      <th>3</th>\n",
       "      <td>959523541</td>\n",
       "      <td>4</td>\n",
       "    </tr>\n",
       "    <tr>\n",
       "      <th>4</th>\n",
       "      <td>969103313</td>\n",
       "      <td>5</td>\n",
       "    </tr>\n",
       "    <tr>\n",
       "      <th>...</th>\n",
       "      <td>...</td>\n",
       "      <td>...</td>\n",
       "    </tr>\n",
       "    <tr>\n",
       "      <th>999995</th>\n",
       "      <td>1600874034</td>\n",
       "      <td>1110618</td>\n",
       "    </tr>\n",
       "    <tr>\n",
       "      <th>999996</th>\n",
       "      <td>1600874086</td>\n",
       "      <td>1110619</td>\n",
       "    </tr>\n",
       "    <tr>\n",
       "      <th>999997</th>\n",
       "      <td>1600874139</td>\n",
       "      <td>1110620</td>\n",
       "    </tr>\n",
       "    <tr>\n",
       "      <th>999998</th>\n",
       "      <td>1600874191</td>\n",
       "      <td>1110621</td>\n",
       "    </tr>\n",
       "    <tr>\n",
       "      <th>999999</th>\n",
       "      <td>1600874244</td>\n",
       "      <td>1110622</td>\n",
       "    </tr>\n",
       "  </tbody>\n",
       "</table>\n",
       "<p>1000000 rows × 2 columns</p>\n",
       "</div>"
      ],
      "text/plain": [
       "            reg_ts      uid\n",
       "0        911382223        1\n",
       "1        932683089        2\n",
       "2        947802447        3\n",
       "3        959523541        4\n",
       "4        969103313        5\n",
       "...            ...      ...\n",
       "999995  1600874034  1110618\n",
       "999996  1600874086  1110619\n",
       "999997  1600874139  1110620\n",
       "999998  1600874191  1110621\n",
       "999999  1600874244  1110622\n",
       "\n",
       "[1000000 rows x 2 columns]"
      ]
     },
     "execution_count": 3,
     "metadata": {},
     "output_type": "execute_result"
    }
   ],
   "source": [
    "df_reg"
   ]
  },
  {
   "cell_type": "code",
   "execution_count": 4,
   "id": "1020a0ec",
   "metadata": {},
   "outputs": [
    {
     "data": {
      "text/plain": [
       "1000000"
      ]
     },
     "execution_count": 4,
     "metadata": {},
     "output_type": "execute_result"
    }
   ],
   "source": [
    "df_reg.reg_ts.nunique()"
   ]
  },
  {
   "cell_type": "code",
   "execution_count": 5,
   "id": "c0a9acec",
   "metadata": {},
   "outputs": [
    {
     "data": {
      "text/html": [
       "<div>\n",
       "<style scoped>\n",
       "    .dataframe tbody tr th:only-of-type {\n",
       "        vertical-align: middle;\n",
       "    }\n",
       "\n",
       "    .dataframe tbody tr th {\n",
       "        vertical-align: top;\n",
       "    }\n",
       "\n",
       "    .dataframe thead th {\n",
       "        text-align: right;\n",
       "    }\n",
       "</style>\n",
       "<table border=\"1\" class=\"dataframe\">\n",
       "  <thead>\n",
       "    <tr style=\"text-align: right;\">\n",
       "      <th></th>\n",
       "      <th>auth_ts</th>\n",
       "      <th>uid</th>\n",
       "    </tr>\n",
       "  </thead>\n",
       "  <tbody>\n",
       "    <tr>\n",
       "      <th>0</th>\n",
       "      <td>911382223</td>\n",
       "      <td>1</td>\n",
       "    </tr>\n",
       "    <tr>\n",
       "      <th>1</th>\n",
       "      <td>932683089</td>\n",
       "      <td>2</td>\n",
       "    </tr>\n",
       "    <tr>\n",
       "      <th>2</th>\n",
       "      <td>932921206</td>\n",
       "      <td>2</td>\n",
       "    </tr>\n",
       "    <tr>\n",
       "      <th>3</th>\n",
       "      <td>933393015</td>\n",
       "      <td>2</td>\n",
       "    </tr>\n",
       "    <tr>\n",
       "      <th>4</th>\n",
       "      <td>933875379</td>\n",
       "      <td>2</td>\n",
       "    </tr>\n",
       "    <tr>\n",
       "      <th>...</th>\n",
       "      <td>...</td>\n",
       "      <td>...</td>\n",
       "    </tr>\n",
       "    <tr>\n",
       "      <th>9601008</th>\n",
       "      <td>1600874034</td>\n",
       "      <td>1110618</td>\n",
       "    </tr>\n",
       "    <tr>\n",
       "      <th>9601009</th>\n",
       "      <td>1600874086</td>\n",
       "      <td>1110619</td>\n",
       "    </tr>\n",
       "    <tr>\n",
       "      <th>9601010</th>\n",
       "      <td>1600874139</td>\n",
       "      <td>1110620</td>\n",
       "    </tr>\n",
       "    <tr>\n",
       "      <th>9601011</th>\n",
       "      <td>1600874191</td>\n",
       "      <td>1110621</td>\n",
       "    </tr>\n",
       "    <tr>\n",
       "      <th>9601012</th>\n",
       "      <td>1600874244</td>\n",
       "      <td>1110622</td>\n",
       "    </tr>\n",
       "  </tbody>\n",
       "</table>\n",
       "<p>9601013 rows × 2 columns</p>\n",
       "</div>"
      ],
      "text/plain": [
       "            auth_ts      uid\n",
       "0         911382223        1\n",
       "1         932683089        2\n",
       "2         932921206        2\n",
       "3         933393015        2\n",
       "4         933875379        2\n",
       "...             ...      ...\n",
       "9601008  1600874034  1110618\n",
       "9601009  1600874086  1110619\n",
       "9601010  1600874139  1110620\n",
       "9601011  1600874191  1110621\n",
       "9601012  1600874244  1110622\n",
       "\n",
       "[9601013 rows x 2 columns]"
      ]
     },
     "execution_count": 5,
     "metadata": {},
     "output_type": "execute_result"
    }
   ],
   "source": [
    "df_auth"
   ]
  },
  {
   "cell_type": "code",
   "execution_count": 6,
   "id": "070f95da",
   "metadata": {},
   "outputs": [
    {
     "data": {
      "text/plain": [
       "1000000"
      ]
     },
     "execution_count": 6,
     "metadata": {},
     "output_type": "execute_result"
    }
   ],
   "source": [
    "#проверяем что кол-во уникальных id одинаково\n",
    "df_auth[\"uid\"].nunique()"
   ]
  },
  {
   "cell_type": "code",
   "execution_count": 7,
   "id": "ee42b055",
   "metadata": {},
   "outputs": [],
   "source": [
    "#Приводим дату к нормальному виду\n",
    "df_auth[\"date\"] = pd.to_datetime(df_auth['auth_ts'],unit='s')\n",
    "df_reg[\"date\"] = pd.to_datetime(df_reg['reg_ts'],unit='s')"
   ]
  },
  {
   "cell_type": "code",
   "execution_count": 8,
   "id": "6e935068",
   "metadata": {},
   "outputs": [
    {
     "data": {
      "text/plain": [
       "Timestamp('1998-11-18 09:43:43')"
      ]
     },
     "execution_count": 8,
     "metadata": {},
     "output_type": "execute_result"
    }
   ],
   "source": [
    "pd.to_datetime('911382223',unit='s')"
   ]
  },
  {
   "cell_type": "code",
   "execution_count": 9,
   "id": "f5892a87",
   "metadata": {},
   "outputs": [],
   "source": [
    "#и нормализуем её оставляя только год-месяц-число\n",
    "df_auth['date'] = df_auth['date'].dt.normalize()\n",
    "df_reg['date'] = df_reg['date'].dt.normalize()"
   ]
  },
  {
   "cell_type": "code",
   "execution_count": 10,
   "id": "09340943",
   "metadata": {},
   "outputs": [
    {
     "data": {
      "text/html": [
       "<div>\n",
       "<style scoped>\n",
       "    .dataframe tbody tr th:only-of-type {\n",
       "        vertical-align: middle;\n",
       "    }\n",
       "\n",
       "    .dataframe tbody tr th {\n",
       "        vertical-align: top;\n",
       "    }\n",
       "\n",
       "    .dataframe thead th {\n",
       "        text-align: right;\n",
       "    }\n",
       "</style>\n",
       "<table border=\"1\" class=\"dataframe\">\n",
       "  <thead>\n",
       "    <tr style=\"text-align: right;\">\n",
       "      <th></th>\n",
       "      <th>auth_ts</th>\n",
       "      <th>uid</th>\n",
       "      <th>date</th>\n",
       "    </tr>\n",
       "  </thead>\n",
       "  <tbody>\n",
       "    <tr>\n",
       "      <th>0</th>\n",
       "      <td>911382223</td>\n",
       "      <td>1</td>\n",
       "      <td>1998-11-18</td>\n",
       "    </tr>\n",
       "    <tr>\n",
       "      <th>1</th>\n",
       "      <td>932683089</td>\n",
       "      <td>2</td>\n",
       "      <td>1999-07-22</td>\n",
       "    </tr>\n",
       "    <tr>\n",
       "      <th>2</th>\n",
       "      <td>932921206</td>\n",
       "      <td>2</td>\n",
       "      <td>1999-07-25</td>\n",
       "    </tr>\n",
       "    <tr>\n",
       "      <th>3</th>\n",
       "      <td>933393015</td>\n",
       "      <td>2</td>\n",
       "      <td>1999-07-31</td>\n",
       "    </tr>\n",
       "    <tr>\n",
       "      <th>4</th>\n",
       "      <td>933875379</td>\n",
       "      <td>2</td>\n",
       "      <td>1999-08-05</td>\n",
       "    </tr>\n",
       "    <tr>\n",
       "      <th>...</th>\n",
       "      <td>...</td>\n",
       "      <td>...</td>\n",
       "      <td>...</td>\n",
       "    </tr>\n",
       "    <tr>\n",
       "      <th>9601008</th>\n",
       "      <td>1600874034</td>\n",
       "      <td>1110618</td>\n",
       "      <td>2020-09-23</td>\n",
       "    </tr>\n",
       "    <tr>\n",
       "      <th>9601009</th>\n",
       "      <td>1600874086</td>\n",
       "      <td>1110619</td>\n",
       "      <td>2020-09-23</td>\n",
       "    </tr>\n",
       "    <tr>\n",
       "      <th>9601010</th>\n",
       "      <td>1600874139</td>\n",
       "      <td>1110620</td>\n",
       "      <td>2020-09-23</td>\n",
       "    </tr>\n",
       "    <tr>\n",
       "      <th>9601011</th>\n",
       "      <td>1600874191</td>\n",
       "      <td>1110621</td>\n",
       "      <td>2020-09-23</td>\n",
       "    </tr>\n",
       "    <tr>\n",
       "      <th>9601012</th>\n",
       "      <td>1600874244</td>\n",
       "      <td>1110622</td>\n",
       "      <td>2020-09-23</td>\n",
       "    </tr>\n",
       "  </tbody>\n",
       "</table>\n",
       "<p>9601013 rows × 3 columns</p>\n",
       "</div>"
      ],
      "text/plain": [
       "            auth_ts      uid       date\n",
       "0         911382223        1 1998-11-18\n",
       "1         932683089        2 1999-07-22\n",
       "2         932921206        2 1999-07-25\n",
       "3         933393015        2 1999-07-31\n",
       "4         933875379        2 1999-08-05\n",
       "...             ...      ...        ...\n",
       "9601008  1600874034  1110618 2020-09-23\n",
       "9601009  1600874086  1110619 2020-09-23\n",
       "9601010  1600874139  1110620 2020-09-23\n",
       "9601011  1600874191  1110621 2020-09-23\n",
       "9601012  1600874244  1110622 2020-09-23\n",
       "\n",
       "[9601013 rows x 3 columns]"
      ]
     },
     "execution_count": 10,
     "metadata": {},
     "output_type": "execute_result"
    }
   ],
   "source": [
    "df_auth"
   ]
  },
  {
   "cell_type": "code",
   "execution_count": 11,
   "id": "a2a9f041",
   "metadata": {},
   "outputs": [
    {
     "data": {
      "text/html": [
       "<div>\n",
       "<style scoped>\n",
       "    .dataframe tbody tr th:only-of-type {\n",
       "        vertical-align: middle;\n",
       "    }\n",
       "\n",
       "    .dataframe tbody tr th {\n",
       "        vertical-align: top;\n",
       "    }\n",
       "\n",
       "    .dataframe thead th {\n",
       "        text-align: right;\n",
       "    }\n",
       "</style>\n",
       "<table border=\"1\" class=\"dataframe\">\n",
       "  <thead>\n",
       "    <tr style=\"text-align: right;\">\n",
       "      <th></th>\n",
       "      <th>reg_ts</th>\n",
       "      <th>uid</th>\n",
       "      <th>date</th>\n",
       "    </tr>\n",
       "  </thead>\n",
       "  <tbody>\n",
       "    <tr>\n",
       "      <th>0</th>\n",
       "      <td>911382223</td>\n",
       "      <td>1</td>\n",
       "      <td>1998-11-18</td>\n",
       "    </tr>\n",
       "    <tr>\n",
       "      <th>1</th>\n",
       "      <td>932683089</td>\n",
       "      <td>2</td>\n",
       "      <td>1999-07-22</td>\n",
       "    </tr>\n",
       "    <tr>\n",
       "      <th>2</th>\n",
       "      <td>947802447</td>\n",
       "      <td>3</td>\n",
       "      <td>2000-01-13</td>\n",
       "    </tr>\n",
       "    <tr>\n",
       "      <th>3</th>\n",
       "      <td>959523541</td>\n",
       "      <td>4</td>\n",
       "      <td>2000-05-28</td>\n",
       "    </tr>\n",
       "    <tr>\n",
       "      <th>4</th>\n",
       "      <td>969103313</td>\n",
       "      <td>5</td>\n",
       "      <td>2000-09-16</td>\n",
       "    </tr>\n",
       "    <tr>\n",
       "      <th>...</th>\n",
       "      <td>...</td>\n",
       "      <td>...</td>\n",
       "      <td>...</td>\n",
       "    </tr>\n",
       "    <tr>\n",
       "      <th>999995</th>\n",
       "      <td>1600874034</td>\n",
       "      <td>1110618</td>\n",
       "      <td>2020-09-23</td>\n",
       "    </tr>\n",
       "    <tr>\n",
       "      <th>999996</th>\n",
       "      <td>1600874086</td>\n",
       "      <td>1110619</td>\n",
       "      <td>2020-09-23</td>\n",
       "    </tr>\n",
       "    <tr>\n",
       "      <th>999997</th>\n",
       "      <td>1600874139</td>\n",
       "      <td>1110620</td>\n",
       "      <td>2020-09-23</td>\n",
       "    </tr>\n",
       "    <tr>\n",
       "      <th>999998</th>\n",
       "      <td>1600874191</td>\n",
       "      <td>1110621</td>\n",
       "      <td>2020-09-23</td>\n",
       "    </tr>\n",
       "    <tr>\n",
       "      <th>999999</th>\n",
       "      <td>1600874244</td>\n",
       "      <td>1110622</td>\n",
       "      <td>2020-09-23</td>\n",
       "    </tr>\n",
       "  </tbody>\n",
       "</table>\n",
       "<p>1000000 rows × 3 columns</p>\n",
       "</div>"
      ],
      "text/plain": [
       "            reg_ts      uid       date\n",
       "0        911382223        1 1998-11-18\n",
       "1        932683089        2 1999-07-22\n",
       "2        947802447        3 2000-01-13\n",
       "3        959523541        4 2000-05-28\n",
       "4        969103313        5 2000-09-16\n",
       "...            ...      ...        ...\n",
       "999995  1600874034  1110618 2020-09-23\n",
       "999996  1600874086  1110619 2020-09-23\n",
       "999997  1600874139  1110620 2020-09-23\n",
       "999998  1600874191  1110621 2020-09-23\n",
       "999999  1600874244  1110622 2020-09-23\n",
       "\n",
       "[1000000 rows x 3 columns]"
      ]
     },
     "execution_count": 11,
     "metadata": {},
     "output_type": "execute_result"
    }
   ],
   "source": [
    "df_reg"
   ]
  },
  {
   "cell_type": "code",
   "execution_count": 12,
   "id": "7d462a36",
   "metadata": {},
   "outputs": [
    {
     "data": {
      "text/plain": [
       "5110"
      ]
     },
     "execution_count": 12,
     "metadata": {},
     "output_type": "execute_result"
    }
   ],
   "source": [
    "df_reg.date.nunique()"
   ]
  },
  {
   "cell_type": "code",
   "execution_count": 13,
   "id": "8ce6554f",
   "metadata": {},
   "outputs": [],
   "source": [
    "#Смердживаем две таблицы, и приводим к удобному виду\n",
    "fin_table = pd.merge(df_auth, df_reg, on=['uid'])\n",
    "fin_table = fin_table.rename(columns={'date_x': 'date_of_auth', 'date_y':'reg_date'})\n",
    "fin_table = fin_table[['uid', 'date_of_auth', 'reg_date']]"
   ]
  },
  {
   "cell_type": "code",
   "execution_count": 14,
   "id": "99ab61e4",
   "metadata": {},
   "outputs": [
    {
     "data": {
      "text/html": [
       "<div>\n",
       "<style scoped>\n",
       "    .dataframe tbody tr th:only-of-type {\n",
       "        vertical-align: middle;\n",
       "    }\n",
       "\n",
       "    .dataframe tbody tr th {\n",
       "        vertical-align: top;\n",
       "    }\n",
       "\n",
       "    .dataframe thead th {\n",
       "        text-align: right;\n",
       "    }\n",
       "</style>\n",
       "<table border=\"1\" class=\"dataframe\">\n",
       "  <thead>\n",
       "    <tr style=\"text-align: right;\">\n",
       "      <th></th>\n",
       "      <th>uid</th>\n",
       "      <th>date_of_auth</th>\n",
       "      <th>reg_date</th>\n",
       "    </tr>\n",
       "  </thead>\n",
       "  <tbody>\n",
       "    <tr>\n",
       "      <th>0</th>\n",
       "      <td>1</td>\n",
       "      <td>1998-11-18</td>\n",
       "      <td>1998-11-18</td>\n",
       "    </tr>\n",
       "    <tr>\n",
       "      <th>1</th>\n",
       "      <td>2</td>\n",
       "      <td>1999-07-22</td>\n",
       "      <td>1999-07-22</td>\n",
       "    </tr>\n",
       "    <tr>\n",
       "      <th>2</th>\n",
       "      <td>2</td>\n",
       "      <td>1999-07-25</td>\n",
       "      <td>1999-07-22</td>\n",
       "    </tr>\n",
       "    <tr>\n",
       "      <th>3</th>\n",
       "      <td>2</td>\n",
       "      <td>1999-07-31</td>\n",
       "      <td>1999-07-22</td>\n",
       "    </tr>\n",
       "    <tr>\n",
       "      <th>4</th>\n",
       "      <td>2</td>\n",
       "      <td>1999-08-05</td>\n",
       "      <td>1999-07-22</td>\n",
       "    </tr>\n",
       "    <tr>\n",
       "      <th>...</th>\n",
       "      <td>...</td>\n",
       "      <td>...</td>\n",
       "      <td>...</td>\n",
       "    </tr>\n",
       "    <tr>\n",
       "      <th>9601008</th>\n",
       "      <td>1110618</td>\n",
       "      <td>2020-09-23</td>\n",
       "      <td>2020-09-23</td>\n",
       "    </tr>\n",
       "    <tr>\n",
       "      <th>9601009</th>\n",
       "      <td>1110619</td>\n",
       "      <td>2020-09-23</td>\n",
       "      <td>2020-09-23</td>\n",
       "    </tr>\n",
       "    <tr>\n",
       "      <th>9601010</th>\n",
       "      <td>1110620</td>\n",
       "      <td>2020-09-23</td>\n",
       "      <td>2020-09-23</td>\n",
       "    </tr>\n",
       "    <tr>\n",
       "      <th>9601011</th>\n",
       "      <td>1110621</td>\n",
       "      <td>2020-09-23</td>\n",
       "      <td>2020-09-23</td>\n",
       "    </tr>\n",
       "    <tr>\n",
       "      <th>9601012</th>\n",
       "      <td>1110622</td>\n",
       "      <td>2020-09-23</td>\n",
       "      <td>2020-09-23</td>\n",
       "    </tr>\n",
       "  </tbody>\n",
       "</table>\n",
       "<p>9601013 rows × 3 columns</p>\n",
       "</div>"
      ],
      "text/plain": [
       "             uid date_of_auth   reg_date\n",
       "0              1   1998-11-18 1998-11-18\n",
       "1              2   1999-07-22 1999-07-22\n",
       "2              2   1999-07-25 1999-07-22\n",
       "3              2   1999-07-31 1999-07-22\n",
       "4              2   1999-08-05 1999-07-22\n",
       "...          ...          ...        ...\n",
       "9601008  1110618   2020-09-23 2020-09-23\n",
       "9601009  1110619   2020-09-23 2020-09-23\n",
       "9601010  1110620   2020-09-23 2020-09-23\n",
       "9601011  1110621   2020-09-23 2020-09-23\n",
       "9601012  1110622   2020-09-23 2020-09-23\n",
       "\n",
       "[9601013 rows x 3 columns]"
      ]
     },
     "execution_count": 14,
     "metadata": {},
     "output_type": "execute_result"
    }
   ],
   "source": [
    "fin_table"
   ]
  },
  {
   "cell_type": "code",
   "execution_count": 20,
   "id": "6562b4ea",
   "metadata": {},
   "outputs": [],
   "source": [
    "# функция retention_analysis\n",
    "# вход: \n",
    "# start_date - начальная дата\n",
    "# end_date - конечная дата\n",
    "# table - предобработанная табоица\n",
    "# выход:\n",
    "# Heatmap с ретеншеном\n",
    "# cohort_counts - таблица с количеством пользователей в когорте\n",
    "def retention_analysis(start_date, end_date, table):\n",
    "    table = table.query(\"@start_date <=reg_date<= @end_date and @start_date<=date_of_auth<= @end_date\")\n",
    "    table['days'] = (table['date_of_auth'] - table['reg_date']).dt.days + 1\n",
    "    \n",
    "    table['reg_date'] = table['reg_date'].dt.date\n",
    "    group = table.groupby(['reg_date', 'days'])\n",
    "    cohort_data = group['uid'].size()\n",
    "    cohort_data = cohort_data.reset_index()\n",
    "    \n",
    "    cohort_counts = cohort_data.pivot(index='reg_date',\n",
    "                                      columns='days',\n",
    "                                      values='uid')\n",
    "\n",
    "    # We need the base for our retention rate calculation\n",
    "    # Here we just take the first column of cohort_counts\n",
    "    base = cohort_counts[1]\n",
    "\n",
    "    # And now we apply the divide method to our cohort_counts, dividing it by the base\n",
    "    retention = cohort_counts.divide(base, axis=0)\n",
    "    \n",
    "    plt.figure(figsize=(18,14))\n",
    "    plt.title('Retention Table')\n",
    "    ax = sns.heatmap(data=retention, annot=True, fmt='.2%', vmin=0.0, vmax=1,cmap='Reds')\n",
    "    ax.set_ylabel(None)\n",
    "    fig=ax.get_figure()\n",
    "\n",
    "    plt.show()\n",
    "    return cohort_counts"
   ]
  },
  {
   "cell_type": "code",
   "execution_count": 21,
   "id": "704b1b6c",
   "metadata": {},
   "outputs": [
    {
     "name": "stderr",
     "output_type": "stream",
     "text": [
      "<ipython-input-20-9a6b8160284c>:11: SettingWithCopyWarning: \n",
      "A value is trying to be set on a copy of a slice from a DataFrame.\n",
      "Try using .loc[row_indexer,col_indexer] = value instead\n",
      "\n",
      "See the caveats in the documentation: https://pandas.pydata.org/pandas-docs/stable/user_guide/indexing.html#returning-a-view-versus-a-copy\n",
      "  table['days'] = (table['date_of_auth'] - table['reg_date']).dt.days + 1\n",
      "<ipython-input-20-9a6b8160284c>:13: SettingWithCopyWarning: \n",
      "A value is trying to be set on a copy of a slice from a DataFrame.\n",
      "Try using .loc[row_indexer,col_indexer] = value instead\n",
      "\n",
      "See the caveats in the documentation: https://pandas.pydata.org/pandas-docs/stable/user_guide/indexing.html#returning-a-view-versus-a-copy\n",
      "  table['reg_date'] = table['reg_date'].dt.date\n"
     ]
    },
    {
     "data": {
      "image/png": "[encoded data removed]",
      "text/plain": [
       "<Figure size 1296x1008 with 2 Axes>"
      ]
     },
     "metadata": {
      "needs_background": "light"
     },
     "output_type": "display_data"
    }
   ],
   "source": [
    "table = retention_analysis('2020-08-01', '2020-08-20', fin_table)"
   ]
  },
  {
   "cell_type": "code",
   "execution_count": 22,
   "id": "9ad8f0bf",
   "metadata": {
    "scrolled": false
   },
   "outputs": [
    {
     "data": {
      "text/html": [
       "<div>\n",
       "<style scoped>\n",
       "    .dataframe tbody tr th:only-of-type {\n",
       "        vertical-align: middle;\n",
       "    }\n",
       "\n",
       "    .dataframe tbody tr th {\n",
       "        vertical-align: top;\n",
       "    }\n",
       "\n",
       "    .dataframe thead th {\n",
       "        text-align: right;\n",
       "    }\n",
       "</style>\n",
       "<table border=\"1\" class=\"dataframe\">\n",
       "  <thead>\n",
       "    <tr style=\"text-align: right;\">\n",
       "      <th>days</th>\n",
       "      <th>1</th>\n",
       "      <th>2</th>\n",
       "      <th>3</th>\n",
       "      <th>4</th>\n",
       "      <th>5</th>\n",
       "      <th>6</th>\n",
       "      <th>7</th>\n",
       "      <th>8</th>\n",
       "      <th>9</th>\n",
       "      <th>10</th>\n",
       "      <th>11</th>\n",
       "      <th>12</th>\n",
       "      <th>13</th>\n",
       "      <th>14</th>\n",
       "      <th>15</th>\n",
       "      <th>16</th>\n",
       "      <th>17</th>\n",
       "      <th>18</th>\n",
       "      <th>19</th>\n",
       "      <th>20</th>\n",
       "    </tr>\n",
       "    <tr>\n",
       "      <th>reg_date</th>\n",
       "      <th></th>\n",
       "      <th></th>\n",
       "      <th></th>\n",
       "      <th></th>\n",
       "      <th></th>\n",
       "      <th></th>\n",
       "      <th></th>\n",
       "      <th></th>\n",
       "      <th></th>\n",
       "      <th></th>\n",
       "      <th></th>\n",
       "      <th></th>\n",
       "      <th></th>\n",
       "      <th></th>\n",
       "      <th></th>\n",
       "      <th></th>\n",
       "      <th></th>\n",
       "      <th></th>\n",
       "      <th></th>\n",
       "      <th></th>\n",
       "    </tr>\n",
       "  </thead>\n",
       "  <tbody>\n",
       "    <tr>\n",
       "      <th>2020-08-01</th>\n",
       "      <td>1507.0</td>\n",
       "      <td>29.0</td>\n",
       "      <td>67.0</td>\n",
       "      <td>65.0</td>\n",
       "      <td>84.0</td>\n",
       "      <td>89.0</td>\n",
       "      <td>115.0</td>\n",
       "      <td>96.0</td>\n",
       "      <td>68.0</td>\n",
       "      <td>96.0</td>\n",
       "      <td>72.0</td>\n",
       "      <td>77.0</td>\n",
       "      <td>89.0</td>\n",
       "      <td>71.0</td>\n",
       "      <td>68.0</td>\n",
       "      <td>74.0</td>\n",
       "      <td>55.0</td>\n",
       "      <td>67.0</td>\n",
       "      <td>57.0</td>\n",
       "      <td>62.0</td>\n",
       "    </tr>\n",
       "    <tr>\n",
       "      <th>2020-08-02</th>\n",
       "      <td>1509.0</td>\n",
       "      <td>39.0</td>\n",
       "      <td>61.0</td>\n",
       "      <td>66.0</td>\n",
       "      <td>78.0</td>\n",
       "      <td>98.0</td>\n",
       "      <td>100.0</td>\n",
       "      <td>91.0</td>\n",
       "      <td>68.0</td>\n",
       "      <td>80.0</td>\n",
       "      <td>83.0</td>\n",
       "      <td>78.0</td>\n",
       "      <td>69.0</td>\n",
       "      <td>83.0</td>\n",
       "      <td>70.0</td>\n",
       "      <td>64.0</td>\n",
       "      <td>75.0</td>\n",
       "      <td>84.0</td>\n",
       "      <td>68.0</td>\n",
       "      <td>NaN</td>\n",
       "    </tr>\n",
       "    <tr>\n",
       "      <th>2020-08-03</th>\n",
       "      <td>1512.0</td>\n",
       "      <td>26.0</td>\n",
       "      <td>65.0</td>\n",
       "      <td>61.0</td>\n",
       "      <td>84.0</td>\n",
       "      <td>93.0</td>\n",
       "      <td>114.0</td>\n",
       "      <td>80.0</td>\n",
       "      <td>75.0</td>\n",
       "      <td>74.0</td>\n",
       "      <td>81.0</td>\n",
       "      <td>77.0</td>\n",
       "      <td>85.0</td>\n",
       "      <td>85.0</td>\n",
       "      <td>64.0</td>\n",
       "      <td>58.0</td>\n",
       "      <td>59.0</td>\n",
       "      <td>75.0</td>\n",
       "      <td>NaN</td>\n",
       "      <td>NaN</td>\n",
       "    </tr>\n",
       "    <tr>\n",
       "      <th>2020-08-04</th>\n",
       "      <td>1514.0</td>\n",
       "      <td>31.0</td>\n",
       "      <td>54.0</td>\n",
       "      <td>71.0</td>\n",
       "      <td>79.0</td>\n",
       "      <td>80.0</td>\n",
       "      <td>98.0</td>\n",
       "      <td>78.0</td>\n",
       "      <td>67.0</td>\n",
       "      <td>71.0</td>\n",
       "      <td>80.0</td>\n",
       "      <td>85.0</td>\n",
       "      <td>61.0</td>\n",
       "      <td>75.0</td>\n",
       "      <td>54.0</td>\n",
       "      <td>72.0</td>\n",
       "      <td>77.0</td>\n",
       "      <td>NaN</td>\n",
       "      <td>NaN</td>\n",
       "      <td>NaN</td>\n",
       "    </tr>\n",
       "    <tr>\n",
       "      <th>2020-08-05</th>\n",
       "      <td>1517.0</td>\n",
       "      <td>39.0</td>\n",
       "      <td>53.0</td>\n",
       "      <td>61.0</td>\n",
       "      <td>87.0</td>\n",
       "      <td>77.0</td>\n",
       "      <td>118.0</td>\n",
       "      <td>93.0</td>\n",
       "      <td>64.0</td>\n",
       "      <td>72.0</td>\n",
       "      <td>72.0</td>\n",
       "      <td>86.0</td>\n",
       "      <td>79.0</td>\n",
       "      <td>73.0</td>\n",
       "      <td>56.0</td>\n",
       "      <td>57.0</td>\n",
       "      <td>NaN</td>\n",
       "      <td>NaN</td>\n",
       "      <td>NaN</td>\n",
       "      <td>NaN</td>\n",
       "    </tr>\n",
       "    <tr>\n",
       "      <th>2020-08-06</th>\n",
       "      <td>1519.0</td>\n",
       "      <td>26.0</td>\n",
       "      <td>77.0</td>\n",
       "      <td>87.0</td>\n",
       "      <td>85.0</td>\n",
       "      <td>87.0</td>\n",
       "      <td>114.0</td>\n",
       "      <td>92.0</td>\n",
       "      <td>76.0</td>\n",
       "      <td>88.0</td>\n",
       "      <td>78.0</td>\n",
       "      <td>79.0</td>\n",
       "      <td>74.0</td>\n",
       "      <td>69.0</td>\n",
       "      <td>72.0</td>\n",
       "      <td>NaN</td>\n",
       "      <td>NaN</td>\n",
       "      <td>NaN</td>\n",
       "      <td>NaN</td>\n",
       "      <td>NaN</td>\n",
       "    </tr>\n",
       "    <tr>\n",
       "      <th>2020-08-07</th>\n",
       "      <td>1522.0</td>\n",
       "      <td>33.0</td>\n",
       "      <td>47.0</td>\n",
       "      <td>80.0</td>\n",
       "      <td>81.0</td>\n",
       "      <td>91.0</td>\n",
       "      <td>109.0</td>\n",
       "      <td>94.0</td>\n",
       "      <td>78.0</td>\n",
       "      <td>76.0</td>\n",
       "      <td>75.0</td>\n",
       "      <td>87.0</td>\n",
       "      <td>79.0</td>\n",
       "      <td>71.0</td>\n",
       "      <td>NaN</td>\n",
       "      <td>NaN</td>\n",
       "      <td>NaN</td>\n",
       "      <td>NaN</td>\n",
       "      <td>NaN</td>\n",
       "      <td>NaN</td>\n",
       "    </tr>\n",
       "    <tr>\n",
       "      <th>2020-08-08</th>\n",
       "      <td>1524.0</td>\n",
       "      <td>37.0</td>\n",
       "      <td>73.0</td>\n",
       "      <td>64.0</td>\n",
       "      <td>83.0</td>\n",
       "      <td>83.0</td>\n",
       "      <td>110.0</td>\n",
       "      <td>96.0</td>\n",
       "      <td>60.0</td>\n",
       "      <td>73.0</td>\n",
       "      <td>80.0</td>\n",
       "      <td>78.0</td>\n",
       "      <td>61.0</td>\n",
       "      <td>NaN</td>\n",
       "      <td>NaN</td>\n",
       "      <td>NaN</td>\n",
       "      <td>NaN</td>\n",
       "      <td>NaN</td>\n",
       "      <td>NaN</td>\n",
       "      <td>NaN</td>\n",
       "    </tr>\n",
       "    <tr>\n",
       "      <th>2020-08-09</th>\n",
       "      <td>1527.0</td>\n",
       "      <td>32.0</td>\n",
       "      <td>60.0</td>\n",
       "      <td>71.0</td>\n",
       "      <td>82.0</td>\n",
       "      <td>108.0</td>\n",
       "      <td>96.0</td>\n",
       "      <td>101.0</td>\n",
       "      <td>68.0</td>\n",
       "      <td>75.0</td>\n",
       "      <td>68.0</td>\n",
       "      <td>95.0</td>\n",
       "      <td>NaN</td>\n",
       "      <td>NaN</td>\n",
       "      <td>NaN</td>\n",
       "      <td>NaN</td>\n",
       "      <td>NaN</td>\n",
       "      <td>NaN</td>\n",
       "      <td>NaN</td>\n",
       "      <td>NaN</td>\n",
       "    </tr>\n",
       "    <tr>\n",
       "      <th>2020-08-10</th>\n",
       "      <td>1529.0</td>\n",
       "      <td>33.0</td>\n",
       "      <td>48.0</td>\n",
       "      <td>84.0</td>\n",
       "      <td>90.0</td>\n",
       "      <td>96.0</td>\n",
       "      <td>99.0</td>\n",
       "      <td>93.0</td>\n",
       "      <td>77.0</td>\n",
       "      <td>75.0</td>\n",
       "      <td>88.0</td>\n",
       "      <td>NaN</td>\n",
       "      <td>NaN</td>\n",
       "      <td>NaN</td>\n",
       "      <td>NaN</td>\n",
       "      <td>NaN</td>\n",
       "      <td>NaN</td>\n",
       "      <td>NaN</td>\n",
       "      <td>NaN</td>\n",
       "      <td>NaN</td>\n",
       "    </tr>\n",
       "    <tr>\n",
       "      <th>2020-08-11</th>\n",
       "      <td>1532.0</td>\n",
       "      <td>29.0</td>\n",
       "      <td>66.0</td>\n",
       "      <td>70.0</td>\n",
       "      <td>91.0</td>\n",
       "      <td>97.0</td>\n",
       "      <td>131.0</td>\n",
       "      <td>97.0</td>\n",
       "      <td>81.0</td>\n",
       "      <td>98.0</td>\n",
       "      <td>NaN</td>\n",
       "      <td>NaN</td>\n",
       "      <td>NaN</td>\n",
       "      <td>NaN</td>\n",
       "      <td>NaN</td>\n",
       "      <td>NaN</td>\n",
       "      <td>NaN</td>\n",
       "      <td>NaN</td>\n",
       "      <td>NaN</td>\n",
       "      <td>NaN</td>\n",
       "    </tr>\n",
       "    <tr>\n",
       "      <th>2020-08-12</th>\n",
       "      <td>1534.0</td>\n",
       "      <td>34.0</td>\n",
       "      <td>56.0</td>\n",
       "      <td>52.0</td>\n",
       "      <td>61.0</td>\n",
       "      <td>77.0</td>\n",
       "      <td>87.0</td>\n",
       "      <td>78.0</td>\n",
       "      <td>58.0</td>\n",
       "      <td>NaN</td>\n",
       "      <td>NaN</td>\n",
       "      <td>NaN</td>\n",
       "      <td>NaN</td>\n",
       "      <td>NaN</td>\n",
       "      <td>NaN</td>\n",
       "      <td>NaN</td>\n",
       "      <td>NaN</td>\n",
       "      <td>NaN</td>\n",
       "      <td>NaN</td>\n",
       "      <td>NaN</td>\n",
       "    </tr>\n",
       "    <tr>\n",
       "      <th>2020-08-13</th>\n",
       "      <td>1537.0</td>\n",
       "      <td>26.0</td>\n",
       "      <td>57.0</td>\n",
       "      <td>79.0</td>\n",
       "      <td>82.0</td>\n",
       "      <td>98.0</td>\n",
       "      <td>88.0</td>\n",
       "      <td>87.0</td>\n",
       "      <td>NaN</td>\n",
       "      <td>NaN</td>\n",
       "      <td>NaN</td>\n",
       "      <td>NaN</td>\n",
       "      <td>NaN</td>\n",
       "      <td>NaN</td>\n",
       "      <td>NaN</td>\n",
       "      <td>NaN</td>\n",
       "      <td>NaN</td>\n",
       "      <td>NaN</td>\n",
       "      <td>NaN</td>\n",
       "      <td>NaN</td>\n",
       "    </tr>\n",
       "    <tr>\n",
       "      <th>2020-08-14</th>\n",
       "      <td>1539.0</td>\n",
       "      <td>20.0</td>\n",
       "      <td>65.0</td>\n",
       "      <td>63.0</td>\n",
       "      <td>96.0</td>\n",
       "      <td>101.0</td>\n",
       "      <td>91.0</td>\n",
       "      <td>NaN</td>\n",
       "      <td>NaN</td>\n",
       "      <td>NaN</td>\n",
       "      <td>NaN</td>\n",
       "      <td>NaN</td>\n",
       "      <td>NaN</td>\n",
       "      <td>NaN</td>\n",
       "      <td>NaN</td>\n",
       "      <td>NaN</td>\n",
       "      <td>NaN</td>\n",
       "      <td>NaN</td>\n",
       "      <td>NaN</td>\n",
       "      <td>NaN</td>\n",
       "    </tr>\n",
       "    <tr>\n",
       "      <th>2020-08-15</th>\n",
       "      <td>1542.0</td>\n",
       "      <td>29.0</td>\n",
       "      <td>65.0</td>\n",
       "      <td>71.0</td>\n",
       "      <td>87.0</td>\n",
       "      <td>91.0</td>\n",
       "      <td>NaN</td>\n",
       "      <td>NaN</td>\n",
       "      <td>NaN</td>\n",
       "      <td>NaN</td>\n",
       "      <td>NaN</td>\n",
       "      <td>NaN</td>\n",
       "      <td>NaN</td>\n",
       "      <td>NaN</td>\n",
       "      <td>NaN</td>\n",
       "      <td>NaN</td>\n",
       "      <td>NaN</td>\n",
       "      <td>NaN</td>\n",
       "      <td>NaN</td>\n",
       "      <td>NaN</td>\n",
       "    </tr>\n",
       "    <tr>\n",
       "      <th>2020-08-16</th>\n",
       "      <td>1545.0</td>\n",
       "      <td>29.0</td>\n",
       "      <td>48.0</td>\n",
       "      <td>63.0</td>\n",
       "      <td>86.0</td>\n",
       "      <td>NaN</td>\n",
       "      <td>NaN</td>\n",
       "      <td>NaN</td>\n",
       "      <td>NaN</td>\n",
       "      <td>NaN</td>\n",
       "      <td>NaN</td>\n",
       "      <td>NaN</td>\n",
       "      <td>NaN</td>\n",
       "      <td>NaN</td>\n",
       "      <td>NaN</td>\n",
       "      <td>NaN</td>\n",
       "      <td>NaN</td>\n",
       "      <td>NaN</td>\n",
       "      <td>NaN</td>\n",
       "      <td>NaN</td>\n",
       "    </tr>\n",
       "    <tr>\n",
       "      <th>2020-08-17</th>\n",
       "      <td>1547.0</td>\n",
       "      <td>36.0</td>\n",
       "      <td>63.0</td>\n",
       "      <td>64.0</td>\n",
       "      <td>NaN</td>\n",
       "      <td>NaN</td>\n",
       "      <td>NaN</td>\n",
       "      <td>NaN</td>\n",
       "      <td>NaN</td>\n",
       "      <td>NaN</td>\n",
       "      <td>NaN</td>\n",
       "      <td>NaN</td>\n",
       "      <td>NaN</td>\n",
       "      <td>NaN</td>\n",
       "      <td>NaN</td>\n",
       "      <td>NaN</td>\n",
       "      <td>NaN</td>\n",
       "      <td>NaN</td>\n",
       "      <td>NaN</td>\n",
       "      <td>NaN</td>\n",
       "    </tr>\n",
       "    <tr>\n",
       "      <th>2020-08-18</th>\n",
       "      <td>1549.0</td>\n",
       "      <td>30.0</td>\n",
       "      <td>69.0</td>\n",
       "      <td>NaN</td>\n",
       "      <td>NaN</td>\n",
       "      <td>NaN</td>\n",
       "      <td>NaN</td>\n",
       "      <td>NaN</td>\n",
       "      <td>NaN</td>\n",
       "      <td>NaN</td>\n",
       "      <td>NaN</td>\n",
       "      <td>NaN</td>\n",
       "      <td>NaN</td>\n",
       "      <td>NaN</td>\n",
       "      <td>NaN</td>\n",
       "      <td>NaN</td>\n",
       "      <td>NaN</td>\n",
       "      <td>NaN</td>\n",
       "      <td>NaN</td>\n",
       "      <td>NaN</td>\n",
       "    </tr>\n",
       "    <tr>\n",
       "      <th>2020-08-19</th>\n",
       "      <td>1552.0</td>\n",
       "      <td>37.0</td>\n",
       "      <td>NaN</td>\n",
       "      <td>NaN</td>\n",
       "      <td>NaN</td>\n",
       "      <td>NaN</td>\n",
       "      <td>NaN</td>\n",
       "      <td>NaN</td>\n",
       "      <td>NaN</td>\n",
       "      <td>NaN</td>\n",
       "      <td>NaN</td>\n",
       "      <td>NaN</td>\n",
       "      <td>NaN</td>\n",
       "      <td>NaN</td>\n",
       "      <td>NaN</td>\n",
       "      <td>NaN</td>\n",
       "      <td>NaN</td>\n",
       "      <td>NaN</td>\n",
       "      <td>NaN</td>\n",
       "      <td>NaN</td>\n",
       "    </tr>\n",
       "    <tr>\n",
       "      <th>2020-08-20</th>\n",
       "      <td>1555.0</td>\n",
       "      <td>NaN</td>\n",
       "      <td>NaN</td>\n",
       "      <td>NaN</td>\n",
       "      <td>NaN</td>\n",
       "      <td>NaN</td>\n",
       "      <td>NaN</td>\n",
       "      <td>NaN</td>\n",
       "      <td>NaN</td>\n",
       "      <td>NaN</td>\n",
       "      <td>NaN</td>\n",
       "      <td>NaN</td>\n",
       "      <td>NaN</td>\n",
       "      <td>NaN</td>\n",
       "      <td>NaN</td>\n",
       "      <td>NaN</td>\n",
       "      <td>NaN</td>\n",
       "      <td>NaN</td>\n",
       "      <td>NaN</td>\n",
       "      <td>NaN</td>\n",
       "    </tr>\n",
       "  </tbody>\n",
       "</table>\n",
       "</div>"
      ],
      "text/plain": [
       "days            1     2     3     4     5      6      7      8     9     10  \\\n",
       "reg_date                                                                      \n",
       "2020-08-01  1507.0  29.0  67.0  65.0  84.0   89.0  115.0   96.0  68.0  96.0   \n",
       "2020-08-02  1509.0  39.0  61.0  66.0  78.0   98.0  100.0   91.0  68.0  80.0   \n",
       "2020-08-03  1512.0  26.0  65.0  61.0  84.0   93.0  114.0   80.0  75.0  74.0   \n",
       "2020-08-04  1514.0  31.0  54.0  71.0  79.0   80.0   98.0   78.0  67.0  71.0   \n",
       "2020-08-05  1517.0  39.0  53.0  61.0  87.0   77.0  118.0   93.0  64.0  72.0   \n",
       "2020-08-06  1519.0  26.0  77.0  87.0  85.0   87.0  114.0   92.0  76.0  88.0   \n",
       "2020-08-07  1522.0  33.0  47.0  80.0  81.0   91.0  109.0   94.0  78.0  76.0   \n",
       "2020-08-08  1524.0  37.0  73.0  64.0  83.0   83.0  110.0   96.0  60.0  73.0   \n",
       "2020-08-09  1527.0  32.0  60.0  71.0  82.0  108.0   96.0  101.0  68.0  75.0   \n",
       "2020-08-10  1529.0  33.0  48.0  84.0  90.0   96.0   99.0   93.0  77.0  75.0   \n",
       "2020-08-11  1532.0  29.0  66.0  70.0  91.0   97.0  131.0   97.0  81.0  98.0   \n",
       "2020-08-12  1534.0  34.0  56.0  52.0  61.0   77.0   87.0   78.0  58.0   NaN   \n",
       "2020-08-13  1537.0  26.0  57.0  79.0  82.0   98.0   88.0   87.0   NaN   NaN   \n",
       "2020-08-14  1539.0  20.0  65.0  63.0  96.0  101.0   91.0    NaN   NaN   NaN   \n",
       "2020-08-15  1542.0  29.0  65.0  71.0  87.0   91.0    NaN    NaN   NaN   NaN   \n",
       "2020-08-16  1545.0  29.0  48.0  63.0  86.0    NaN    NaN    NaN   NaN   NaN   \n",
       "2020-08-17  1547.0  36.0  63.0  64.0   NaN    NaN    NaN    NaN   NaN   NaN   \n",
       "2020-08-18  1549.0  30.0  69.0   NaN   NaN    NaN    NaN    NaN   NaN   NaN   \n",
       "2020-08-19  1552.0  37.0   NaN   NaN   NaN    NaN    NaN    NaN   NaN   NaN   \n",
       "2020-08-20  1555.0   NaN   NaN   NaN   NaN    NaN    NaN    NaN   NaN   NaN   \n",
       "\n",
       "days          11    12    13    14    15    16    17    18    19    20  \n",
       "reg_date                                                                \n",
       "2020-08-01  72.0  77.0  89.0  71.0  68.0  74.0  55.0  67.0  57.0  62.0  \n",
       "2020-08-02  83.0  78.0  69.0  83.0  70.0  64.0  75.0  84.0  68.0   NaN  \n",
       "2020-08-03  81.0  77.0  85.0  85.0  64.0  58.0  59.0  75.0   NaN   NaN  \n",
       "2020-08-04  80.0  85.0  61.0  75.0  54.0  72.0  77.0   NaN   NaN   NaN  \n",
       "2020-08-05  72.0  86.0  79.0  73.0  56.0  57.0   NaN   NaN   NaN   NaN  \n",
       "2020-08-06  78.0  79.0  74.0  69.0  72.0   NaN   NaN   NaN   NaN   NaN  \n",
       "2020-08-07  75.0  87.0  79.0  71.0   NaN   NaN   NaN   NaN   NaN   NaN  \n",
       "2020-08-08  80.0  78.0  61.0   NaN   NaN   NaN   NaN   NaN   NaN   NaN  \n",
       "2020-08-09  68.0  95.0   NaN   NaN   NaN   NaN   NaN   NaN   NaN   NaN  \n",
       "2020-08-10  88.0   NaN   NaN   NaN   NaN   NaN   NaN   NaN   NaN   NaN  \n",
       "2020-08-11   NaN   NaN   NaN   NaN   NaN   NaN   NaN   NaN   NaN   NaN  \n",
       "2020-08-12   NaN   NaN   NaN   NaN   NaN   NaN   NaN   NaN   NaN   NaN  \n",
       "2020-08-13   NaN   NaN   NaN   NaN   NaN   NaN   NaN   NaN   NaN   NaN  \n",
       "2020-08-14   NaN   NaN   NaN   NaN   NaN   NaN   NaN   NaN   NaN   NaN  \n",
       "2020-08-15   NaN   NaN   NaN   NaN   NaN   NaN   NaN   NaN   NaN   NaN  \n",
       "2020-08-16   NaN   NaN   NaN   NaN   NaN   NaN   NaN   NaN   NaN   NaN  \n",
       "2020-08-17   NaN   NaN   NaN   NaN   NaN   NaN   NaN   NaN   NaN   NaN  \n",
       "2020-08-18   NaN   NaN   NaN   NaN   NaN   NaN   NaN   NaN   NaN   NaN  \n",
       "2020-08-19   NaN   NaN   NaN   NaN   NaN   NaN   NaN   NaN   NaN   NaN  \n",
       "2020-08-20   NaN   NaN   NaN   NaN   NaN   NaN   NaN   NaN   NaN   NaN  "
      ]
     },
     "execution_count": 22,
     "metadata": {},
     "output_type": "execute_result"
    }
   ],
   "source": [
    "table"
   ]
  },
  {
   "cell_type": "markdown",
   "id": "75954788",
   "metadata": {},
   "source": [
    "В итоге получилась функция, которая выводит heatmap по когортам ретеншена и обычную таблицу с количеством игроков в когорте. Функция тестировалась на сэмпле данных."
   ]
  },
  {
   "cell_type": "markdown",
   "id": "daf5b14d",
   "metadata": {},
   "source": [
    "# Задание 2\n",
    "Имеются результаты A/B теста, в котором двум группам пользователей предлагались различные наборы акционных предложений. Известно, что ARPU в тестовой группе выше на 5%, чем в контрольной. При этом в контрольной группе 1928 игроков из 202103 оказались платящими, а в тестовой – 1805 из 202667.\n",
    "\n",
    "Какой набор предложений можно считать лучшим? Какие метрики стоит проанализировать для принятия правильного решения и как?"
   ]
  },
  {
   "cell_type": "code",
   "execution_count": 51,
   "id": "fa2ca852",
   "metadata": {},
   "outputs": [],
   "source": [
    "#Подгрузим нужные нам данные\n",
    "test_res = pd.read_csv('Проект_1_Задание_2.csv', sep=\";\")"
   ]
  },
  {
   "cell_type": "code",
   "execution_count": 52,
   "id": "79e8ad3e",
   "metadata": {},
   "outputs": [
    {
     "data": {
      "text/html": [
       "<div>\n",
       "<style scoped>\n",
       "    .dataframe tbody tr th:only-of-type {\n",
       "        vertical-align: middle;\n",
       "    }\n",
       "\n",
       "    .dataframe tbody tr th {\n",
       "        vertical-align: top;\n",
       "    }\n",
       "\n",
       "    .dataframe thead th {\n",
       "        text-align: right;\n",
       "    }\n",
       "</style>\n",
       "<table border=\"1\" class=\"dataframe\">\n",
       "  <thead>\n",
       "    <tr style=\"text-align: right;\">\n",
       "      <th></th>\n",
       "      <th>user_id</th>\n",
       "      <th>revenue</th>\n",
       "      <th>testgroup</th>\n",
       "    </tr>\n",
       "  </thead>\n",
       "  <tbody>\n",
       "    <tr>\n",
       "      <th>0</th>\n",
       "      <td>1</td>\n",
       "      <td>0</td>\n",
       "      <td>b</td>\n",
       "    </tr>\n",
       "    <tr>\n",
       "      <th>1</th>\n",
       "      <td>2</td>\n",
       "      <td>0</td>\n",
       "      <td>a</td>\n",
       "    </tr>\n",
       "    <tr>\n",
       "      <th>2</th>\n",
       "      <td>3</td>\n",
       "      <td>0</td>\n",
       "      <td>a</td>\n",
       "    </tr>\n",
       "    <tr>\n",
       "      <th>3</th>\n",
       "      <td>4</td>\n",
       "      <td>0</td>\n",
       "      <td>b</td>\n",
       "    </tr>\n",
       "    <tr>\n",
       "      <th>4</th>\n",
       "      <td>5</td>\n",
       "      <td>0</td>\n",
       "      <td>b</td>\n",
       "    </tr>\n",
       "    <tr>\n",
       "      <th>...</th>\n",
       "      <td>...</td>\n",
       "      <td>...</td>\n",
       "      <td>...</td>\n",
       "    </tr>\n",
       "    <tr>\n",
       "      <th>404765</th>\n",
       "      <td>404766</td>\n",
       "      <td>0</td>\n",
       "      <td>a</td>\n",
       "    </tr>\n",
       "    <tr>\n",
       "      <th>404766</th>\n",
       "      <td>404767</td>\n",
       "      <td>0</td>\n",
       "      <td>b</td>\n",
       "    </tr>\n",
       "    <tr>\n",
       "      <th>404767</th>\n",
       "      <td>404768</td>\n",
       "      <td>231</td>\n",
       "      <td>a</td>\n",
       "    </tr>\n",
       "    <tr>\n",
       "      <th>404768</th>\n",
       "      <td>404769</td>\n",
       "      <td>0</td>\n",
       "      <td>a</td>\n",
       "    </tr>\n",
       "    <tr>\n",
       "      <th>404769</th>\n",
       "      <td>404770</td>\n",
       "      <td>0</td>\n",
       "      <td>b</td>\n",
       "    </tr>\n",
       "  </tbody>\n",
       "</table>\n",
       "<p>404770 rows × 3 columns</p>\n",
       "</div>"
      ],
      "text/plain": [
       "        user_id  revenue testgroup\n",
       "0             1        0         b\n",
       "1             2        0         a\n",
       "2             3        0         a\n",
       "3             4        0         b\n",
       "4             5        0         b\n",
       "...         ...      ...       ...\n",
       "404765   404766        0         a\n",
       "404766   404767        0         b\n",
       "404767   404768      231         a\n",
       "404768   404769        0         a\n",
       "404769   404770        0         b\n",
       "\n",
       "[404770 rows x 3 columns]"
      ]
     },
     "execution_count": 52,
     "metadata": {},
     "output_type": "execute_result"
    }
   ],
   "source": [
    "test_res"
   ]
  },
  {
   "cell_type": "code",
   "execution_count": 53,
   "id": "1f3bf3f7",
   "metadata": {},
   "outputs": [
    {
     "name": "stderr",
     "output_type": "stream",
     "text": [
      "<ipython-input-53-73aafb1def5c>:1: UserWarning: Boolean Series key will be reindexed to match DataFrame index.\n",
      "  test_res.query(\"testgroup == 'a'\")[test_res.revenue > 0]\n"
     ]
    },
    {
     "data": {
      "text/html": [
       "<div>\n",
       "<style scoped>\n",
       "    .dataframe tbody tr th:only-of-type {\n",
       "        vertical-align: middle;\n",
       "    }\n",
       "\n",
       "    .dataframe tbody tr th {\n",
       "        vertical-align: top;\n",
       "    }\n",
       "\n",
       "    .dataframe thead th {\n",
       "        text-align: right;\n",
       "    }\n",
       "</style>\n",
       "<table border=\"1\" class=\"dataframe\">\n",
       "  <thead>\n",
       "    <tr style=\"text-align: right;\">\n",
       "      <th></th>\n",
       "      <th>user_id</th>\n",
       "      <th>revenue</th>\n",
       "      <th>testgroup</th>\n",
       "    </tr>\n",
       "  </thead>\n",
       "  <tbody>\n",
       "    <tr>\n",
       "      <th>72</th>\n",
       "      <td>73</td>\n",
       "      <td>351</td>\n",
       "      <td>a</td>\n",
       "    </tr>\n",
       "    <tr>\n",
       "      <th>341</th>\n",
       "      <td>342</td>\n",
       "      <td>290</td>\n",
       "      <td>a</td>\n",
       "    </tr>\n",
       "    <tr>\n",
       "      <th>385</th>\n",
       "      <td>386</td>\n",
       "      <td>250</td>\n",
       "      <td>a</td>\n",
       "    </tr>\n",
       "    <tr>\n",
       "      <th>416</th>\n",
       "      <td>417</td>\n",
       "      <td>37324</td>\n",
       "      <td>a</td>\n",
       "    </tr>\n",
       "    <tr>\n",
       "      <th>712</th>\n",
       "      <td>713</td>\n",
       "      <td>255</td>\n",
       "      <td>a</td>\n",
       "    </tr>\n",
       "    <tr>\n",
       "      <th>...</th>\n",
       "      <td>...</td>\n",
       "      <td>...</td>\n",
       "      <td>...</td>\n",
       "    </tr>\n",
       "    <tr>\n",
       "      <th>404304</th>\n",
       "      <td>404305</td>\n",
       "      <td>360</td>\n",
       "      <td>a</td>\n",
       "    </tr>\n",
       "    <tr>\n",
       "      <th>404315</th>\n",
       "      <td>404316</td>\n",
       "      <td>262</td>\n",
       "      <td>a</td>\n",
       "    </tr>\n",
       "    <tr>\n",
       "      <th>404543</th>\n",
       "      <td>404544</td>\n",
       "      <td>369</td>\n",
       "      <td>a</td>\n",
       "    </tr>\n",
       "    <tr>\n",
       "      <th>404602</th>\n",
       "      <td>404603</td>\n",
       "      <td>251</td>\n",
       "      <td>a</td>\n",
       "    </tr>\n",
       "    <tr>\n",
       "      <th>404767</th>\n",
       "      <td>404768</td>\n",
       "      <td>231</td>\n",
       "      <td>a</td>\n",
       "    </tr>\n",
       "  </tbody>\n",
       "</table>\n",
       "<p>1928 rows × 3 columns</p>\n",
       "</div>"
      ],
      "text/plain": [
       "        user_id  revenue testgroup\n",
       "72           73      351         a\n",
       "341         342      290         a\n",
       "385         386      250         a\n",
       "416         417    37324         a\n",
       "712         713      255         a\n",
       "...         ...      ...       ...\n",
       "404304   404305      360         a\n",
       "404315   404316      262         a\n",
       "404543   404544      369         a\n",
       "404602   404603      251         a\n",
       "404767   404768      231         a\n",
       "\n",
       "[1928 rows x 3 columns]"
      ]
     },
     "execution_count": 53,
     "metadata": {},
     "output_type": "execute_result"
    }
   ],
   "source": [
    "test_res.query(\"testgroup == 'a'\")[test_res.revenue > 0]"
   ]
  },
  {
   "cell_type": "code",
   "execution_count": 54,
   "id": "bfe652ed",
   "metadata": {},
   "outputs": [
    {
     "data": {
      "text/html": [
       "<div>\n",
       "<style scoped>\n",
       "    .dataframe tbody tr th:only-of-type {\n",
       "        vertical-align: middle;\n",
       "    }\n",
       "\n",
       "    .dataframe tbody tr th {\n",
       "        vertical-align: top;\n",
       "    }\n",
       "\n",
       "    .dataframe thead th {\n",
       "        text-align: right;\n",
       "    }\n",
       "</style>\n",
       "<table border=\"1\" class=\"dataframe\">\n",
       "  <thead>\n",
       "    <tr style=\"text-align: right;\">\n",
       "      <th></th>\n",
       "      <th>mean_rev</th>\n",
       "    </tr>\n",
       "    <tr>\n",
       "      <th>testgroup</th>\n",
       "      <th></th>\n",
       "    </tr>\n",
       "  </thead>\n",
       "  <tbody>\n",
       "    <tr>\n",
       "      <th>a</th>\n",
       "      <td>25.413720</td>\n",
       "    </tr>\n",
       "    <tr>\n",
       "      <th>b</th>\n",
       "      <td>26.751287</td>\n",
       "    </tr>\n",
       "  </tbody>\n",
       "</table>\n",
       "</div>"
      ],
      "text/plain": [
       "            mean_rev\n",
       "testgroup           \n",
       "a          25.413720\n",
       "b          26.751287"
      ]
     },
     "execution_count": 54,
     "metadata": {},
     "output_type": "execute_result"
    }
   ],
   "source": [
    "#Посмотрим на средний revenue между двумя группами, различается он как раз на 5%\n",
    "test_res.groupby('testgroup').agg(mean_rev = ('revenue', 'mean'))"
   ]
  },
  {
   "cell_type": "code",
   "execution_count": 55,
   "id": "db9cf701",
   "metadata": {},
   "outputs": [
    {
     "name": "stderr",
     "output_type": "stream",
     "text": [
      "<ipython-input-55-04d3a60a4909>:1: UserWarning: Boolean Series key will be reindexed to match DataFrame index.\n",
      "  test_res.query(\"testgroup == 'b'\")[test_res.revenue > 0].revenue.hist(bins=10)\n"
     ]
    },
    {
     "data": {
      "text/plain": [
       "<AxesSubplot:>"
      ]
     },
     "execution_count": 55,
     "metadata": {},
     "output_type": "execute_result"
    },
    {
     "data": {
      "image/png": "[encoded data removed]",
      "text/plain": [
       "<Figure size 432x288 with 1 Axes>"
      ]
     },
     "metadata": {},
     "output_type": "display_data"
    }
   ],
   "source": [
    "#Гистограмма для тестовой группы\n",
    "test_res.query(\"testgroup == 'b'\")[test_res.revenue > 0].revenue.hist(bins=10)"
   ]
  },
  {
   "cell_type": "code",
   "execution_count": 56,
   "id": "75c19233",
   "metadata": {},
   "outputs": [
    {
     "name": "stderr",
     "output_type": "stream",
     "text": [
      "<ipython-input-56-5b3c921b60d5>:1: UserWarning: Boolean Series key will be reindexed to match DataFrame index.\n",
      "  test_res.query(\"testgroup == 'a'\")[test_res.revenue > 0].revenue.hist(bins=10)\n"
     ]
    },
    {
     "data": {
      "text/plain": [
       "<AxesSubplot:>"
      ]
     },
     "execution_count": 56,
     "metadata": {},
     "output_type": "execute_result"
    },
    {
     "data": {
      "image/png": "[encoded data removed]",
      "text/plain": [
       "<Figure size 432x288 with 1 Axes>"
      ]
     },
     "metadata": {},
     "output_type": "display_data"
    }
   ],
   "source": [
    "#Гистограмма для контрольной группы\n",
    "test_res.query(\"testgroup == 'a'\")[test_res.revenue > 0].revenue.hist(bins=10)"
   ]
  },
  {
   "cell_type": "code",
   "execution_count": 69,
   "id": "49b38910",
   "metadata": {},
   "outputs": [
    {
     "name": "stderr",
     "output_type": "stream",
     "text": [
      "<ipython-input-69-b0fb6bc97c1e>:1: UserWarning: Boolean Series key will be reindexed to match DataFrame index.\n",
      "  test_res.query(\"testgroup == 'a'\")[(test_res.revenue < 10000) & (test_res.revenue > 0)].revenue.hist(bins=10)\n"
     ]
    },
    {
     "data": {
      "text/plain": [
       "<AxesSubplot:>"
      ]
     },
     "execution_count": 69,
     "metadata": {},
     "output_type": "execute_result"
    },
    {
     "data": {
      "image/png": "[encoded data removed]",
      "text/plain": [
       "<Figure size 432x288 with 1 Axes>"
      ]
     },
     "metadata": {},
     "output_type": "display_data"
    }
   ],
   "source": [
    "#Гистограмма для контрольной группы без пользователей, чей revenue >= 10000\n",
    "test_res.query(\"testgroup == 'a'\")[(test_res.revenue < 10000) & (test_res.revenue > 0)].revenue.hist(bins=10)"
   ]
  },
  {
   "cell_type": "markdown",
   "id": "f067730f",
   "metadata": {},
   "source": [
    "Из графиков видно, что в контрольной группе присутствуют явные выбросы в данных, основная масса пользователей лежит в диапазоне от 200 до 400, в то время как остальная часть лежит в пределах от 35000 и больше. Это уже намекает нам что такие две группы сравнивать между собой не очень хорошо. Посмотрим на данные из метода describe():"
   ]
  },
  {
   "cell_type": "code",
   "execution_count": 27,
   "id": "2106ec97",
   "metadata": {},
   "outputs": [
    {
     "name": "stderr",
     "output_type": "stream",
     "text": [
      "<ipython-input-27-9e8f36e859e0>:1: UserWarning: Boolean Series key will be reindexed to match DataFrame index.\n",
      "  test_res.query(\"testgroup == 'b'\")[test_res.revenue > 0].revenue.describe()\n"
     ]
    },
    {
     "data": {
      "text/plain": [
       "count    1805.000000\n",
       "mean     3003.658172\n",
       "std       572.619709\n",
       "min      2000.000000\n",
       "25%      2513.000000\n",
       "50%      3022.000000\n",
       "75%      3478.000000\n",
       "max      4000.000000\n",
       "Name: revenue, dtype: float64"
      ]
     },
     "execution_count": 27,
     "metadata": {},
     "output_type": "execute_result"
    }
   ],
   "source": [
    "test_res.query(\"testgroup == 'b'\")[test_res.revenue > 0].revenue.describe()"
   ]
  },
  {
   "cell_type": "code",
   "execution_count": 28,
   "id": "4003a448",
   "metadata": {},
   "outputs": [
    {
     "name": "stderr",
     "output_type": "stream",
     "text": [
      "<ipython-input-28-77d81bdc84b8>:1: UserWarning: Boolean Series key will be reindexed to match DataFrame index.\n",
      "  test_res.query(\"testgroup == 'a'\")[test_res.revenue > 0].revenue.describe()\n"
     ]
    },
    {
     "data": {
      "text/plain": [
       "count     1928.000000\n",
       "mean      2663.998444\n",
       "std       9049.039763\n",
       "min        200.000000\n",
       "25%        257.000000\n",
       "50%        311.000000\n",
       "75%        361.000000\n",
       "max      37433.000000\n",
       "Name: revenue, dtype: float64"
      ]
     },
     "execution_count": 28,
     "metadata": {},
     "output_type": "execute_result"
    }
   ],
   "source": [
    "test_res.query(\"testgroup == 'a'\")[test_res.revenue > 0].revenue.describe()"
   ]
  },
  {
   "cell_type": "code",
   "execution_count": 29,
   "id": "3bef1b2f",
   "metadata": {},
   "outputs": [
    {
     "name": "stderr",
     "output_type": "stream",
     "text": [
      "<ipython-input-29-0feb667051b6>:1: UserWarning: Boolean Series key will be reindexed to match DataFrame index.\n",
      "  temp1 = test_res.query(\"testgroup == 'a'\")[test_res.revenue > 0].revenue.count()\n",
      "<ipython-input-29-0feb667051b6>:3: UserWarning: Boolean Series key will be reindexed to match DataFrame index.\n",
      "  ARPU = (temp1/temp2) * (test_res.query(\"testgroup == 'a'\")[test_res.revenue > 0].revenue.sum()/temp1)\n"
     ]
    }
   ],
   "source": [
    "temp1 = test_res.query(\"testgroup == 'a'\")[test_res.revenue > 0].revenue.count()\n",
    "temp2 = test_res.query(\"testgroup == 'a'\").revenue.count()\n",
    "ARPU = (temp1/temp2) * (test_res.query(\"testgroup == 'a'\")[test_res.revenue > 0].revenue.sum()/temp1)"
   ]
  },
  {
   "cell_type": "code",
   "execution_count": 30,
   "id": "6740ec28",
   "metadata": {},
   "outputs": [
    {
     "data": {
      "text/plain": [
       "25.413719736965806"
      ]
     },
     "execution_count": 30,
     "metadata": {},
     "output_type": "execute_result"
    }
   ],
   "source": [
    "ARPU"
   ]
  },
  {
   "cell_type": "code",
   "execution_count": 31,
   "id": "6396d206",
   "metadata": {},
   "outputs": [
    {
     "name": "stderr",
     "output_type": "stream",
     "text": [
      "<ipython-input-31-c36ed30486a7>:1: UserWarning: Boolean Series key will be reindexed to match DataFrame index.\n",
      "  ARPPU = (test_res.query(\"testgroup == 'a'\")[test_res.revenue > 0].revenue.sum()/temp1)\n"
     ]
    },
    {
     "data": {
      "text/plain": [
       "2663.9984439834025"
      ]
     },
     "execution_count": 31,
     "metadata": {},
     "output_type": "execute_result"
    }
   ],
   "source": [
    "ARPPU = (test_res.query(\"testgroup == 'a'\")[test_res.revenue > 0].revenue.sum()/temp1)\n",
    "ARPPU"
   ]
  },
  {
   "cell_type": "code",
   "execution_count": 32,
   "id": "b10a11eb",
   "metadata": {},
   "outputs": [
    {
     "name": "stderr",
     "output_type": "stream",
     "text": [
      "<ipython-input-32-1c1a9ef0bd15>:1: UserWarning: Boolean Series key will be reindexed to match DataFrame index.\n",
      "  temp1 = test_res.query(\"testgroup == 'b'\")[test_res.revenue > 0].revenue.count()\n",
      "<ipython-input-32-1c1a9ef0bd15>:3: UserWarning: Boolean Series key will be reindexed to match DataFrame index.\n",
      "  ARPU = (temp1/temp2) * (test_res.query(\"testgroup == 'b'\")[test_res.revenue > 0].revenue.sum()/temp1)\n",
      "<ipython-input-32-1c1a9ef0bd15>:4: UserWarning: Boolean Series key will be reindexed to match DataFrame index.\n",
      "  ARPPU = (test_res.query(\"testgroup == 'b'\")[test_res.revenue > 0].revenue.sum()/temp1)\n"
     ]
    }
   ],
   "source": [
    "temp1 = test_res.query(\"testgroup == 'b'\")[test_res.revenue > 0].revenue.count()\n",
    "temp2 = test_res.query(\"testgroup == 'b'\").revenue.count()\n",
    "ARPU = (temp1/temp2) * (test_res.query(\"testgroup == 'b'\")[test_res.revenue > 0].revenue.sum()/temp1)\n",
    "ARPPU = (test_res.query(\"testgroup == 'b'\")[test_res.revenue > 0].revenue.sum()/temp1)"
   ]
  },
  {
   "cell_type": "code",
   "execution_count": 33,
   "id": "13f1c545",
   "metadata": {},
   "outputs": [
    {
     "data": {
      "text/plain": [
       "26.75128659327863"
      ]
     },
     "execution_count": 33,
     "metadata": {},
     "output_type": "execute_result"
    }
   ],
   "source": [
    "ARPU"
   ]
  },
  {
   "cell_type": "code",
   "execution_count": 34,
   "id": "a8969522",
   "metadata": {},
   "outputs": [
    {
     "data": {
      "text/plain": [
       "3003.6581717451522"
      ]
     },
     "execution_count": 34,
     "metadata": {},
     "output_type": "execute_result"
    }
   ],
   "source": [
    "ARPPU"
   ]
  },
  {
   "cell_type": "markdown",
   "id": "77cae3c1",
   "metadata": {},
   "source": [
    "Видно что ARPU различается не сильно, в то время как ARPPU различается уже на 300+ значение. В методе describe ARPPU == mean, а на среднее значение очень сильно влияют выбросы в данных, ведь судя по квантилям 75% - 361, а дисперсия в контрольной группе больше 9000. Проверим гипотезы о равенстве медианн и средних с помощью бутстрапа"
   ]
  },
  {
   "cell_type": "code",
   "execution_count": 35,
   "id": "24f92699",
   "metadata": {},
   "outputs": [],
   "source": [
    "def get_bootstrap(\n",
    "    data_column_1, # числовые значения первой выборки\n",
    "    data_column_2, # числовые значения второй выборки\n",
    "    boot_it = 1000, # количество бутстрэп-подвыборок\n",
    "    statistic = np.mean, # интересующая нас статистика\n",
    "    bootstrap_conf_level = 0.95 # уровень значимости\n",
    "):\n",
    "    boot_data = []\n",
    "    for i in tqdm(range(boot_it)): # извлекаем подвыборки\n",
    "        samples_1 = data_column_1.sample(\n",
    "            len(data_column_1), \n",
    "            replace = True # параметр возвращения\n",
    "        ).values\n",
    "        \n",
    "        samples_2 = data_column_2.sample(\n",
    "            len(data_column_1), \n",
    "            replace = True\n",
    "        ).values\n",
    "        \n",
    "        boot_data.append(statistic(samples_1)-statistic(samples_2)) # mean() - применяем статистику\n",
    "        \n",
    "    pd_boot_data = pd.DataFrame(boot_data)\n",
    "        \n",
    "    left_quant = (1 - bootstrap_conf_level)/2\n",
    "    right_quant = 1 - (1 - bootstrap_conf_level) / 2\n",
    "    quants = pd_boot_data.quantile([left_quant, right_quant])\n",
    "        \n",
    "    p_1 = norm.cdf(\n",
    "        x = 0, \n",
    "        loc = np.mean(boot_data), \n",
    "        scale = np.std(boot_data)\n",
    "    )\n",
    "    p_2 = norm.cdf(\n",
    "        x = 0, \n",
    "        loc = -np.mean(boot_data), \n",
    "        scale = np.std(boot_data)\n",
    "    )\n",
    "    p_value = min(p_1, p_2) * 2\n",
    "        \n",
    "    # Визуализация\n",
    "    _, _, bars = plt.hist(pd_boot_data[0], bins = 50)\n",
    "    for bar in bars:\n",
    "        if bar.get_x() <= quants.iloc[0][0] or bar.get_x() >= quants.iloc[1][0]:\n",
    "            bar.set_facecolor('red')\n",
    "        else: \n",
    "            bar.set_facecolor('grey')\n",
    "            bar.set_edgecolor('black')\n",
    "    \n",
    "    plt.style.use('ggplot')\n",
    "    plt.vlines(quants,ymin=0,ymax=50,linestyle='--')\n",
    "    plt.xlabel('boot_data')\n",
    "    plt.ylabel('frequency')\n",
    "    plt.title(\"Histogram of boot_data\")\n",
    "    plt.show()\n",
    "       \n",
    "    return {\"boot_data\": boot_data, \n",
    "            \"quants\": quants, \n",
    "            \"p_value\": p_value}"
   ]
  },
  {
   "cell_type": "code",
   "execution_count": 36,
   "id": "8412a611",
   "metadata": {},
   "outputs": [
    {
     "name": "stderr",
     "output_type": "stream",
     "text": [
      "<ipython-input-36-d02ea35f70e2>:1: UserWarning: Boolean Series key will be reindexed to match DataFrame index.\n",
      "  test_b = test_res.query(\"testgroup == 'b'\")[test_res.revenue > 0]\n",
      "<ipython-input-36-d02ea35f70e2>:2: UserWarning: Boolean Series key will be reindexed to match DataFrame index.\n",
      "  test_a = test_res.query(\"testgroup == 'a'\")[test_res.revenue > 0]\n"
     ]
    }
   ],
   "source": [
    "test_b = test_res.query(\"testgroup == 'b'\")[test_res.revenue > 0]\n",
    "test_a = test_res.query(\"testgroup == 'a'\")[test_res.revenue > 0]"
   ]
  },
  {
   "cell_type": "code",
   "execution_count": 65,
   "id": "9ea6a40f",
   "metadata": {},
   "outputs": [
    {
     "data": {
      "text/plain": [
       "<AxesSubplot:>"
      ]
     },
     "execution_count": 65,
     "metadata": {},
     "output_type": "execute_result"
    },
    {
     "data": {
      "image/png": "[encoded data removed]",
      "text/plain": [
       "<Figure size 432x288 with 1 Axes>"
      ]
     },
     "metadata": {},
     "output_type": "display_data"
    }
   ],
   "source": [
    "test_a[test_a.revenue < 1000].revenue.hist()"
   ]
  },
  {
   "cell_type": "code",
   "execution_count": 37,
   "id": "4a9b6fed",
   "metadata": {},
   "outputs": [
    {
     "data": {
      "text/html": [
       "<div>\n",
       "<style scoped>\n",
       "    .dataframe tbody tr th:only-of-type {\n",
       "        vertical-align: middle;\n",
       "    }\n",
       "\n",
       "    .dataframe tbody tr th {\n",
       "        vertical-align: top;\n",
       "    }\n",
       "\n",
       "    .dataframe thead th {\n",
       "        text-align: right;\n",
       "    }\n",
       "</style>\n",
       "<table border=\"1\" class=\"dataframe\">\n",
       "  <thead>\n",
       "    <tr style=\"text-align: right;\">\n",
       "      <th></th>\n",
       "      <th>user_id</th>\n",
       "      <th>revenue</th>\n",
       "      <th>testgroup</th>\n",
       "    </tr>\n",
       "  </thead>\n",
       "  <tbody>\n",
       "    <tr>\n",
       "      <th>160</th>\n",
       "      <td>161</td>\n",
       "      <td>3797</td>\n",
       "      <td>b</td>\n",
       "    </tr>\n",
       "    <tr>\n",
       "      <th>377</th>\n",
       "      <td>378</td>\n",
       "      <td>3768</td>\n",
       "      <td>b</td>\n",
       "    </tr>\n",
       "    <tr>\n",
       "      <th>386</th>\n",
       "      <td>387</td>\n",
       "      <td>3527</td>\n",
       "      <td>b</td>\n",
       "    </tr>\n",
       "    <tr>\n",
       "      <th>551</th>\n",
       "      <td>552</td>\n",
       "      <td>2038</td>\n",
       "      <td>b</td>\n",
       "    </tr>\n",
       "    <tr>\n",
       "      <th>913</th>\n",
       "      <td>914</td>\n",
       "      <td>3902</td>\n",
       "      <td>b</td>\n",
       "    </tr>\n",
       "    <tr>\n",
       "      <th>...</th>\n",
       "      <td>...</td>\n",
       "      <td>...</td>\n",
       "      <td>...</td>\n",
       "    </tr>\n",
       "    <tr>\n",
       "      <th>403843</th>\n",
       "      <td>403844</td>\n",
       "      <td>3383</td>\n",
       "      <td>b</td>\n",
       "    </tr>\n",
       "    <tr>\n",
       "      <th>403994</th>\n",
       "      <td>403995</td>\n",
       "      <td>2793</td>\n",
       "      <td>b</td>\n",
       "    </tr>\n",
       "    <tr>\n",
       "      <th>404161</th>\n",
       "      <td>404162</td>\n",
       "      <td>2316</td>\n",
       "      <td>b</td>\n",
       "    </tr>\n",
       "    <tr>\n",
       "      <th>404193</th>\n",
       "      <td>404194</td>\n",
       "      <td>2998</td>\n",
       "      <td>b</td>\n",
       "    </tr>\n",
       "    <tr>\n",
       "      <th>404525</th>\n",
       "      <td>404526</td>\n",
       "      <td>3120</td>\n",
       "      <td>b</td>\n",
       "    </tr>\n",
       "  </tbody>\n",
       "</table>\n",
       "<p>1805 rows × 3 columns</p>\n",
       "</div>"
      ],
      "text/plain": [
       "        user_id  revenue testgroup\n",
       "160         161     3797         b\n",
       "377         378     3768         b\n",
       "386         387     3527         b\n",
       "551         552     2038         b\n",
       "913         914     3902         b\n",
       "...         ...      ...       ...\n",
       "403843   403844     3383         b\n",
       "403994   403995     2793         b\n",
       "404161   404162     2316         b\n",
       "404193   404194     2998         b\n",
       "404525   404526     3120         b\n",
       "\n",
       "[1805 rows x 3 columns]"
      ]
     },
     "execution_count": 37,
     "metadata": {},
     "output_type": "execute_result"
    }
   ],
   "source": [
    "test_b"
   ]
  },
  {
   "cell_type": "code",
   "execution_count": 38,
   "id": "2eafb1c9",
   "metadata": {},
   "outputs": [
    {
     "data": {
      "application/vnd.jupyter.widget-view+json": {
       "model_id": "0538f4a51a3e40fc842bdcd844501120",
       "version_major": 2,
       "version_minor": 0
      },
      "text/plain": [
       "  0%|          | 0/1000 [00:00<?, ?it/s]"
      ]
     },
     "metadata": {},
     "output_type": "display_data"
    },
    {
     "data": {
      "image/png": "[encoded data removed]",
      "text/plain": [
       "<Figure size 432x288 with 1 Axes>"
      ]
     },
     "metadata": {
      "needs_background": "light"
     },
     "output_type": "display_data"
    }
   ],
   "source": [
    "res = get_bootstrap(test_a.revenue, test_b.revenue)"
   ]
  },
  {
   "cell_type": "code",
   "execution_count": 39,
   "id": "212ce431",
   "metadata": {},
   "outputs": [
    {
     "data": {
      "text/plain": [
       "0.10426114443332282"
      ]
     },
     "execution_count": 39,
     "metadata": {},
     "output_type": "execute_result"
    }
   ],
   "source": [
    "res['p_value']"
   ]
  },
  {
   "cell_type": "markdown",
   "id": "6ac3dc49",
   "metadata": {},
   "source": [
    "Первый тест на среднем показывает что средние в двух выборках различаются незначительно, и отвергнуть нулевую гипотезу об их равенстве мы не можем."
   ]
  },
  {
   "cell_type": "code",
   "execution_count": 40,
   "id": "259bd79a",
   "metadata": {},
   "outputs": [
    {
     "data": {
      "application/vnd.jupyter.widget-view+json": {
       "model_id": "10a3b64b18454992a22ddfab435c76ba",
       "version_major": 2,
       "version_minor": 0
      },
      "text/plain": [
       "  0%|          | 0/1000 [00:00<?, ?it/s]"
      ]
     },
     "metadata": {},
     "output_type": "display_data"
    },
    {
     "data": {
      "image/png": "[encoded data removed]",
      "text/plain": [
       "<Figure size 432x288 with 1 Axes>"
      ]
     },
     "metadata": {},
     "output_type": "display_data"
    }
   ],
   "source": [
    "res = get_bootstrap(test_a.revenue, test_b.revenue, statistic=np.median)"
   ]
  },
  {
   "cell_type": "code",
   "execution_count": 41,
   "id": "15ab34fd",
   "metadata": {},
   "outputs": [
    {
     "data": {
      "text/plain": [
       "0.0"
      ]
     },
     "execution_count": 41,
     "metadata": {},
     "output_type": "execute_result"
    }
   ],
   "source": [
    "res['p_value']"
   ]
  },
  {
   "cell_type": "markdown",
   "id": "d26f38a0",
   "metadata": {},
   "source": [
    "В то время как проверяя гипотезу о равенстве медианн мы с уверенностью отвергаем эту гипотезу. "
   ]
  },
  {
   "cell_type": "markdown",
   "id": "6442d7f2",
   "metadata": {},
   "source": [
    "Подводя итоги и отвечая на вопрос какие предложения выкатывать, можно сказать что лучше пока не принимать решение о выкатывании тестовых предложений, так как на основании данных приведенных в контрольной и тестовой группе нельзя сказать однозначно, что одно хуже другого. В качетсве метрик были проверенны ARPU и ARPPU пользователей, а также проверенны гипотезы на равенство средних и медианн двух выборок. Единственное что можно сказать, если в контрольной группе будут отсутствовать выбросы влияющие на среднее значение, то тестовый набор предложений однозначно показывает себя лучше, исходя из средних значний гистограмм."
   ]
  },
  {
   "cell_type": "markdown",
   "id": "fa1c530a",
   "metadata": {},
   "source": [
    "# Задание 3\n",
    "В игре Plants & Gardens каждый месяц проводятся тематические события, ограниченные по времени. В них игроки могут получить уникальные предметы для сада и персонажей, дополнительные монеты или бонусы. Для получения награды требуется пройти ряд уровней за определенное время. С помощью каких метрик можно оценить результаты последнего прошедшего события?\n",
    "\n",
    "Предположим, в другом событии мы усложнили механику событий так, что при каждой неудачной попытке выполнения уровня игрок будет откатываться на несколько уровней назад. Изменится ли набор метрик оценки результата? Если да, то как?"
   ]
  },
  {
   "cell_type": "markdown",
   "id": "b384a9f4",
   "metadata": {},
   "source": [
    "В качестве оценки прошедшего ивента в моем понимании можно использовать следующие метрики:\n",
    "1. DAU, MAU, Средняя дневная аудитория - то есть количество уникальных пользователей на момент проведения ивента\n",
    "2. Conversion rate(абсолютный и относительный) - с помощью него можно проверить сколько игроков дошли до финального уровня ивента, или сколько игроков открыли все награды(прогресс по ивенту)\n",
    "3. Retention n-ого дня - сколько игроков решили вернуться ради прохождения события в игру\n",
    "4. ARPU и ARPPU - если к примеру в ивенте есть элемент микротранзакций для получения дополнительных ограниченных наград.\n",
    "5. Customer satisfaction score(CSAT) - опрос после проведенного события об удовлетворенности им(некоторые игры к примеру Genshin Impact проводят такие опросы в конце патча, чтобы получить фидбек от игроков после событий патча).\n",
    "\n",
    "Если рассматривать вариант с усложнением ивента, то наверное можно оставить метрики точно такими же, скорее всего усложнение ивента повлияет в худшую сторону на Convertion rate и retention, так как менее активные игроки с меньшей вероятностью откроют все награды, а игроки долго отсутсвовавшие в игре вряд ли смогут закрыть ивент из-за отставания"
   ]
  },
  {
   "cell_type": "code",
   "execution_count": null,
   "id": "152aa484",
   "metadata": {},
   "outputs": [],
   "source": []
  }
 ],
 "metadata": {
  "kernelspec": {
   "display_name": "Python 3",
   "language": "python",
   "name": "python3"
  },
  "language_info": {
   "codemirror_mode": {
    "name": "ipython",
    "version": 3
   },
   "file_extension": ".py",
   "mimetype": "text/x-python",
   "name": "python",
   "nbconvert_exporter": "python",
   "pygments_lexer": "ipython3",
   "version": "3.8.8"
  }
 },
 "nbformat": 4,
 "nbformat_minor": 5
}
